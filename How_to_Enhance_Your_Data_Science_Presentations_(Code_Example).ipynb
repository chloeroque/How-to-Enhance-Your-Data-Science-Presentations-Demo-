{
  "nbformat": 4,
  "nbformat_minor": 0,
  "metadata": {
    "colab": {
      "provenance": []
    },
    "kernelspec": {
      "name": "python3",
      "display_name": "Python 3"
    },
    "language_info": {
      "name": "python"
    }
  },
  "cells": [
    {
      "cell_type": "markdown",
      "source": [
        "# How to Enhance Your Data Science Presentations"
      ],
      "metadata": {
        "id": "k2vZb8RxfKO7"
      }
    },
    {
      "cell_type": "markdown",
      "source": [
        "Below is a very simple example of the possibilites of `matplotlib` and `seaborn`. It may be tricky at first looking to little details, but with practice and consistancy, your presentations can completely transform."
      ],
      "metadata": {
        "id": "xSHDKY8ThBNd"
      }
    },
    {
      "cell_type": "code",
      "execution_count": 2,
      "metadata": {
        "colab": {
          "base_uri": "https://localhost:8080/",
          "height": 679
        },
        "id": "G7CZUI-ofG7d",
        "outputId": "f1d42492-66a4-437d-d80f-79467ea74a26"
      },
      "outputs": [
        {
          "output_type": "stream",
          "name": "stderr",
          "text": [
            "<ipython-input-2-8d7be5e9207a>:17: FutureWarning: \n",
            "\n",
            "Passing `palette` without assigning `hue` is deprecated and will be removed in v0.14.0. Assign the `x` variable to `hue` and set `legend=False` for the same effect.\n",
            "\n",
            "  barplot = sns.barplot(x='Brand', y='Sales', data=df, palette='pastel')\n"
          ]
        },
        {
          "output_type": "display_data",
          "data": {
            "text/plain": [
              "<Figure size 800x600 with 1 Axes>"
            ],
            "image/png": "[encoded data removed]"
          },
          "metadata": {}
        }
      ],
      "source": [
        "import matplotlib.pyplot as plt\n",
        "import seaborn as sns\n",
        "import pandas as pd\n",
        "\n",
        "# Sample data\n",
        "data = {\n",
        "    'Brand': ['Brand A', 'Brand B', 'Brand C', 'Brand D'],\n",
        "    'Sales': [120, 80, 95, 60]\n",
        "}\n",
        "df = pd.DataFrame(data)\n",
        "\n",
        "# Set Seaborn style to \"white\" (no gridlines)\n",
        "sns.set_style(\"white\")\n",
        "\n",
        "# Create the bar plot\n",
        "plt.figure(figsize=(8,6))\n",
        "barplot = sns.barplot(x='Brand', y='Sales', data=df, palette='pastel')\n",
        "\n",
        "# Remove the axes spines (optional - looks cleaner)\n",
        "sns.despine()\n",
        "\n",
        "# Add labels and title\n",
        "plt.title('Car Sales by Brand', fontsize=16)\n",
        "plt.xlabel('Brand', fontsize=12)\n",
        "plt.ylabel('Sales', fontsize=12)\n",
        "\n",
        "# Save with transparent background\n",
        "plt.savefig('car_sales_plot.png', transparent=True, dpi=300)\n",
        "\n",
        "# Show the plot\n",
        "plt.show()"
      ]
    },
    {
      "cell_type": "markdown",
      "source": [
        "## Breakdown of the Code"
      ],
      "metadata": {
        "id": "bFBaGVo1fkZI"
      }
    },
    {
      "cell_type": "markdown",
      "source": [
        "### Imports"
      ],
      "metadata": {
        "id": "Yl2ggy9kgAcM"
      }
    },
    {
      "cell_type": "markdown",
      "source": [
        "\n",
        "I imported `pandas` to handle the data, `seaborn` to create clean and aesthetic graphs, and `matplotlib.pyplot` to control and save the figure.\n",
        "\n",
        "These libraries were chosen because they are very flexible and allow for customization — which was important in datasets like car market predictions where you might need specific colors, transparency, and formatting.\n",
        "\n",
        "The data used is fake synthetic data for the sake of the example."
      ],
      "metadata": {
        "id": "b2UyVbhLf4Bo"
      }
    },
    {
      "cell_type": "markdown",
      "source": [
        "### Visuals"
      ],
      "metadata": {
        "id": "g_z2A8BpgCra"
      }
    },
    {
      "cell_type": "markdown",
      "source": [
        "- `sns.set_style(\"white\")`: Setting the style to \"white\" removes background gridlines, keeping the plot clean and professional.\n",
        "\n",
        "- `plt.figure(figsize=(8,6))` `barplot = sns.barplot(x='Brand', y='Sales', data=df, palette='pastel')`: Makes a bar plot using Seaborn. I set the figure size so that the graph looks good on a presentation slide (not too small or too cramped). I chose the \"pastel\" palette because softer colors are less distracting and keep the focus on the key differences between brands.\n",
        "\n",
        "- `sns.despine()`: Cleans up the axes, removes the outer box-like spines around the plot, giving it an even cleaner and more modern look.\n",
        "\n",
        "- `plt.title('Car Sales by Brand', fontsize=16)`\n",
        "`plt.xlabel('Brand', fontsize=12)`\n",
        "`plt.ylabel('Sales', fontsize=12)`: Titles and axis labels were added to clearly communicate what the viewer is looking at. I increased the font size to make sure it would be easily readable on a projector screen during the presentation.\n",
        "\n",
        "- `plt.savefig('car_sales_plot.png', transparent=True, dpi=300)`: Saving with transparent=True allowed me to seamlessly drop this graph onto any slide without worrying about a clashing white box around it. I set dpi=300 to make sure the image is high resolution and doesn’t look blurry when projected."
      ],
      "metadata": {
        "id": "omQJMFK4gTZi"
      }
    }
  ]
}